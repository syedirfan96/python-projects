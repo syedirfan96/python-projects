{
 "cells": [
  {
   "cell_type": "raw",
   "id": "944f7561",
   "metadata": {},
   "source": [
    "Problem Statement: Write a program to build a simple Student Management System using Python which can perform the following operations:\n",
    "\n",
    "Accept\n",
    "Display\n",
    "Search\n",
    "Delete\n",
    "Update"
   ]
  },
  {
   "cell_type": "raw",
   "id": "29f92370",
   "metadata": {},
   "source": [
    "Here are some additional features you could consider adding to this project:\n",
    "\n",
    "Update student details: Allow the user to update an existing student's details, such as their name or age.\n",
    "\n",
    "Search for students: Implement a search function that allows the user to find students based on their name, age, or other criteria.\n",
    "\n",
    "Sort the student database: Allow the user to sort the student database by name, age, or other criteria.\n",
    "\n",
    "Add more fields: Add more fields to the student data structure, such as the student's address, phone number, or email address.\n",
    "\n",
    "Export data: Allow the user to export the student database to a CSV or Excel file, or to print the data to a PDF.\n",
    "\n",
    "Import data: Allow the user to import data from a CSV or Excel file, so that they can easily add new students or update existing ones.\n",
    "\n",
    "Password protection: Add a password protection feature to prevent unauthorized access to the student database.\n",
    "\n",
    "User authentication: Implement a user authentication system to restrict access to the student database to authorized users only.\n",
    "\n",
    "GUI: Create a graphical user interface (GUI) to make it easier for users to interact with the student database.\n",
    "\n",
    "Email notifications: Add a feature that sends email notifications to students or teachers when new data is added or updated in the student database."
   ]
  },
  {
   "cell_type": "code",
   "execution_count": 59,
   "id": "135e6ed6",
   "metadata": {},
   "outputs": [
    {
     "name": "stdout",
     "output_type": "stream",
     "text": [
      "WELCOME\n",
      "\n",
      "1.Accept Student details\n",
      "2.Display Student Details\n",
      "3.Search students details\n",
      "4.Delete student details\n",
      "5.Clear Entire DB\n",
      "6.Update Phone Details\n",
      "What would you like to do? 2\n",
      "{\n",
      "  \"Roll No0\": {\n",
      "    \"Name\": \"syed irfan\",\n",
      "    \"Age\": 25,\n",
      "    \"Phone Number\": 12345\n",
      "  },\n",
      "  \"Roll No1\": {\n",
      "    \"Name\": \"arfath\",\n",
      "    \"Age\": 62339,\n",
      "    \"Phone Number\": 8709127263\n",
      "  },\n",
      "  \"Roll No2\": {\n",
      "    \"Name\": \"simran\",\n",
      "    \"Age\": 980989890,\n",
      "    \"Phone Number\": 122\n",
      "  }\n",
      "}\n",
      "None\n"
     ]
    }
   ],
   "source": [
    "import json\n",
    "\n",
    "def load_db():\n",
    "    try:\n",
    "        with open('student_db.json','r') as f:\n",
    "            return json.load(f)\n",
    "    except FileNotFoundError:\n",
    "        return {}    \n",
    "    \n",
    "def save_db(student_db):\n",
    "    with open('student_db.json','w') as f:\n",
    "        json.dump(student_db,f)\n",
    "\n",
    "student_db = load_db()\n",
    "        \n",
    "def add_student():\n",
    "    counter = len(student_db)\n",
    "    while True:\n",
    "        student_name = input(\"Enter student name or enter 'quit' to exit: \")\n",
    "        if student_name == 'quit':\n",
    "            break\n",
    "        student_age = int(input(\"Enter students Age: \"))\n",
    "        phone_number = int(input(\"Enter phone number\"))\n",
    "        student_data = {'Name':student_name,'Age':student_age,'Phone Number':phone_number}\n",
    "        student_count = 'Roll No'+str(counter)\n",
    "        student_db[student_count] = student_data\n",
    "        counter+=1\n",
    "    save_db(student_db)\n",
    "    return student_db\n",
    "\n",
    "def display_db():\n",
    "    if not student_db:\n",
    "        print(\"DB is Empty right now, nothing to display\")\n",
    "        return\n",
    "    #print(student_db,'\\n')\n",
    "    print(json.dumps(student_db, indent=2))\n",
    "\n",
    "'''def delete_db():\n",
    "    take_input = input(\"Enter roll number to delete student details: \")\n",
    "    del student_db[take_input]\n",
    "    print(f\"{take_input} is deleted from DB\")\n",
    "    return student_db '''\n",
    "def delete_db():\n",
    "    take_input = input(\"Enter name to delete student details: \")\n",
    "    keys_to_delete = []\n",
    "    for roll_no,student_data in student_db.items():\n",
    "        if student_data['Name'].lower() == take_input.lower():\n",
    "            keys_to_delete.append(roll_no)\n",
    "    for key in keys_to_delete:\n",
    "        del student_db[key]\n",
    "        print(f\"Student: {student_data['Name']} with Roll Number: {roll_no} is deleted from DB\")\n",
    "    return student_db\n",
    "\n",
    "def clear_db():\n",
    "    while True:\n",
    "        take_option = input(\"DO you want to clear the student DB? (y/n)\")\n",
    "        if take_option.lower() == 'y' or take_option.lower() == 'yes':\n",
    "            student_db.clear()\n",
    "            print(\"DB cleared succcessfully!!!!\")\n",
    "            break\n",
    "        elif take_option.lower() == 'n' or take_option.lower() == 'no':\n",
    "            print(\"DB remains same\")\n",
    "            break\n",
    "        else:\n",
    "            print(\"Invalid option enter y or n only\")\n",
    "            \n",
    "def search_student():\n",
    "    search = input(\"Enter student name: \")\n",
    "    for roll_no,student_data in student_db.items():\n",
    "        if student_data['Name'].lower() == search.lower():\n",
    "            print(f\" Student {roll_no}:{student_data}\")\n",
    "            break\n",
    "    else:\n",
    "        print('NO such student exists')  \n",
    "        \n",
    "'''def update_phone():\n",
    "    update = int(input(\"Enter new Phone number: \"))\n",
    "    for roll_no,student_data in student_db.items():\n",
    "        if student_data['Phone Number']:\n",
    "            student_data['Phone Number']= update\n",
    "            print(f\" Student {roll_no}:updated details are {student_data}\")\n",
    "            break\n",
    "    else:\n",
    "        print('No such details')'''\n",
    "def update_details():\n",
    "    #update = int(input(\"Enter new Phone number: \"))\n",
    "    student = input(\"Enter name of student whose details you want to update: \")\n",
    "    for roll_no,student_data in student_db.items():\n",
    "        if  student_db[roll_no]['Name'] == student:\n",
    "            what = input(\"Enter 1 to update age else 2 to update phone no:\")\n",
    "            if what == '1':\n",
    "                details = input(\"Enter New age: \")\n",
    "                student_data['Age']= details\n",
    "                print(f\" Student {roll_no}:updated details are {student_data}\")\n",
    "                break\n",
    "            elif what =='2':\n",
    "                details = input(\"Enter New number: \")\n",
    "                student_data['Phone Number']= details\n",
    "                print(f\" Student {roll_no}:updated details are {student_data}\")\n",
    "                break\n",
    "            else:\n",
    "                print('No such details')\n",
    "    else:\n",
    "        print(\"No such student EXISTS\")\n",
    "            \n",
    "print(\"WELCOME\")\n",
    "print(\"\\n1.Accept Student details\\n2.Display Student Details\\n3.Search students details\\n4.Delete student details\\n5.Clear Entire DB\\n6.Update Phone Details\")\n",
    "user_choice = input(\"What would you like to do? \")\n",
    "\n",
    "if user_choice == '1':\n",
    "    add_student()\n",
    "elif user_choice =='2':\n",
    "    print(display_db())\n",
    "elif user_choice == '3':\n",
    "    search_student()\n",
    "elif user_choice == '4':\n",
    "    delete_db()\n",
    "    save_db(student_db)\n",
    "elif user_choice =='5':\n",
    "    clear_db()\n",
    "    save_db(student_db)\n",
    "elif user_choice == '6':\n",
    "    update_details()\n",
    "    save_db(student_db)\n",
    "else:\n",
    "    print(\"Option does not exists\")\n"
   ]
  },
  {
   "cell_type": "code",
   "execution_count": null,
   "id": "a4d5cf91",
   "metadata": {},
   "outputs": [],
   "source": []
  },
  {
   "cell_type": "code",
   "execution_count": 50,
   "id": "05ec85b2",
   "metadata": {},
   "outputs": [
    {
     "name": "stdout",
     "output_type": "stream",
     "text": [
      "Enter name of student whose details you want to update: simran\n",
      "Enter 1 to update age else 2 to update phone no:2\n",
      "Enter New number: 9110203255\n",
      " Student Roll No2:updated details are {'Name': 'simran', 'Age': 980989890, 'Phone Number': '9110203255'}\n"
     ]
    }
   ],
   "source": [
    "def update_details():\n",
    "    #update = int(input(\"Enter new Phone number: \"))\n",
    "    student = input(\"Enter name of student whose details you want to update: \")\n",
    "    for roll_no,student_data in student_db.items():\n",
    "        if  student_db[roll_no]['Name'] == student:\n",
    "            what = input(\"Enter 1 to update age else 2 to update phone no:\")\n",
    "            if what == '1':\n",
    "                details = input(\"Enter New age: \")\n",
    "                student_data['Age']= details\n",
    "                print(f\" Student {roll_no}:updated details are {student_data}\")\n",
    "                break\n",
    "            elif what =='2':\n",
    "                details = input(\"Enter New number: \")\n",
    "                student_data['Phone Number']= details\n",
    "                print(f\" Student {roll_no}:updated details are {student_data}\")\n",
    "                break\n",
    "            else:\n",
    "                print('No such details')\n",
    "    else:\n",
    "        print(\"No such student EXISTS\")\n",
    "update_details()"
   ]
  },
  {
   "cell_type": "code",
   "execution_count": 22,
   "id": "d12dae60",
   "metadata": {},
   "outputs": [
    {
     "data": {
      "text/plain": [
       "{'Roll No0': {'Name': 'syed irfan', 'Age': 25, 'Phone Number': 12345},\n",
       " 'Roll No1': {'Name': 'arfath', 'Age': 62339, 'Phone Number': 8709127263},\n",
       " 'Roll No2': {'Name': 'simran', 'Age': 980989890, 'Phone Number': 122}}"
      ]
     },
     "execution_count": 22,
     "metadata": {},
     "output_type": "execute_result"
    }
   ],
   "source": [
    "student_db"
   ]
  },
  {
   "cell_type": "code",
   "execution_count": 26,
   "id": "715198d0",
   "metadata": {},
   "outputs": [
    {
     "data": {
      "text/plain": [
       "dict_values([{'Name': 'syed irfan', 'Age': 25, 'Phone Number': 12345}, {'Name': 'arfath', 'Age': 62339, 'Phone Number': 8709127263}, {'Name': 'simran', 'Age': 980989890, 'Phone Number': 122}])"
      ]
     },
     "execution_count": 26,
     "metadata": {},
     "output_type": "execute_result"
    }
   ],
   "source": [
    "student_db.values()"
   ]
  },
  {
   "cell_type": "code",
   "execution_count": 30,
   "id": "f49ff674",
   "metadata": {},
   "outputs": [
    {
     "name": "stdout",
     "output_type": "stream",
     "text": [
      "arfath\n"
     ]
    },
    {
     "ename": "TypeError",
     "evalue": "string indices must be integers",
     "output_type": "error",
     "traceback": [
      "\u001b[1;31m---------------------------------------------------------------------------\u001b[0m",
      "\u001b[1;31mTypeError\u001b[0m                                 Traceback (most recent call last)",
      "Input \u001b[1;32mIn [30]\u001b[0m, in \u001b[0;36m<cell line: 2>\u001b[1;34m()\u001b[0m\n\u001b[0;32m      1\u001b[0m k \u001b[38;5;241m=\u001b[39m \u001b[38;5;28minput\u001b[39m()\n\u001b[1;32m----> 2\u001b[0m \u001b[38;5;28;01mif\u001b[39;00m \u001b[43mk\u001b[49m\u001b[43m[\u001b[49m\u001b[38;5;124;43m'\u001b[39;49m\u001b[38;5;124;43mName\u001b[39;49m\u001b[38;5;124;43m'\u001b[39;49m\u001b[43m]\u001b[49m \u001b[38;5;129;01min\u001b[39;00m student_db\u001b[38;5;241m.\u001b[39mvalues():\n\u001b[0;32m      3\u001b[0m     \u001b[38;5;28mprint\u001b[39m(\u001b[38;5;124m\"\u001b[39m\u001b[38;5;124mTrue\u001b[39m\u001b[38;5;124m\"\u001b[39m)\n\u001b[0;32m      4\u001b[0m \u001b[38;5;28;01melse\u001b[39;00m:\n",
      "\u001b[1;31mTypeError\u001b[0m: string indices must be integers"
     ]
    }
   ],
   "source": [
    "k = input()\n",
    "if k in student_db.keys():\n",
    "    print(\"True\")\n",
    "else:\n",
    "    print(\"False\")"
   ]
  },
  {
   "cell_type": "code",
   "execution_count": 37,
   "id": "38583882",
   "metadata": {},
   "outputs": [
    {
     "data": {
      "text/plain": [
       "dict_items([('Roll No0', {'Name': 'syed irfan', 'Age': 25, 'Phone Number': 12345}), ('Roll No1', {'Name': 'arfath', 'Age': 62339, 'Phone Number': 8709127263}), ('Roll No2', {'Name': 'simran', 'Age': 980989890, 'Phone Number': 122})])"
      ]
     },
     "execution_count": 37,
     "metadata": {},
     "output_type": "execute_result"
    }
   ],
   "source": [
    "if student_db.items():\n",
    "    if student_db"
   ]
  },
  {
   "cell_type": "code",
   "execution_count": 40,
   "id": "48ff1b94",
   "metadata": {},
   "outputs": [
    {
     "ename": "KeyError",
     "evalue": "'Roll No'",
     "output_type": "error",
     "traceback": [
      "\u001b[1;31m---------------------------------------------------------------------------\u001b[0m",
      "\u001b[1;31mKeyError\u001b[0m                                  Traceback (most recent call last)",
      "Input \u001b[1;32mIn [40]\u001b[0m, in \u001b[0;36m<cell line: 1>\u001b[1;34m()\u001b[0m\n\u001b[1;32m----> 1\u001b[0m \u001b[43mstudent_db\u001b[49m\u001b[43m[\u001b[49m\u001b[38;5;124;43m'\u001b[39;49m\u001b[38;5;124;43mRoll No\u001b[39;49m\u001b[38;5;124;43m'\u001b[39;49m\u001b[43m]\u001b[49m[\u001b[38;5;124m'\u001b[39m\u001b[38;5;124mPhone Number\u001b[39m\u001b[38;5;124m'\u001b[39m]\n",
      "\u001b[1;31mKeyError\u001b[0m: 'Roll No'"
     ]
    }
   ],
   "source": [
    "student_db['Roll No']['Phone Number']"
   ]
  },
  {
   "cell_type": "code",
   "execution_count": 43,
   "id": "b1f295be",
   "metadata": {},
   "outputs": [
    {
     "name": "stdout",
     "output_type": "stream",
     "text": [
      "syed irfan\n",
      "arfath\n",
      "simran\n"
     ]
    }
   ],
   "source": [
    "for roll_no,student_data in student_db.items():\n",
    "    print(student_db[roll_no]['Name'])\n",
    "        "
   ]
  },
  {
   "cell_type": "code",
   "execution_count": null,
   "id": "3fb2d2b9",
   "metadata": {},
   "outputs": [],
   "source": []
  },
  {
   "cell_type": "code",
   "execution_count": null,
   "id": "34b9dd97",
   "metadata": {},
   "outputs": [],
   "source": []
  },
  {
   "cell_type": "code",
   "execution_count": null,
   "id": "1c53f145",
   "metadata": {},
   "outputs": [],
   "source": []
  },
  {
   "cell_type": "code",
   "execution_count": null,
   "id": "7b633ac4",
   "metadata": {},
   "outputs": [],
   "source": []
  },
  {
   "cell_type": "code",
   "execution_count": null,
   "id": "18c3869f",
   "metadata": {},
   "outputs": [],
   "source": []
  },
  {
   "cell_type": "code",
   "execution_count": null,
   "id": "e6d966e5",
   "metadata": {},
   "outputs": [],
   "source": []
  },
  {
   "cell_type": "code",
   "execution_count": null,
   "id": "2af9a1b2",
   "metadata": {},
   "outputs": [],
   "source": []
  },
  {
   "cell_type": "markdown",
   "id": "852d921e",
   "metadata": {},
   "source": [
    "def delete_db():\n",
    "    take_input = input(\"Enter roll number to delete student details: \")\n",
    "    found = False\n",
    "    for roll_no,student_data in student_db.items():\n",
    "        if roll_no.lower()==take_input.lower() or 'Name' in student_data and student_data['Name'].lower() == take_input.lower():\n",
    "            del student_db[roll_no]\n",
    "            found = True\n",
    "            print(f\"Student: {student_data['Name']} with Roll Number: {roll_no} is deleted from DB\")\n",
    "    if not found:\n",
    "        print(f\"No student found\")\n",
    "        \n",
    "    return student_db"
   ]
  },
  {
   "cell_type": "code",
   "execution_count": 42,
   "id": "a5ed35ba",
   "metadata": {},
   "outputs": [],
   "source": [
    "#First, import the Tkinter module and create a new window:\n",
    "import tkinter as tk\n",
    "\n",
    "window = tk.Tk()\n",
    "\n",
    "#Add some widgets to the window, such as labels, text boxes, and buttons:\n",
    "name_label = tk.Label(window, text='Name')\n",
    "name_entry = tk.Entry(window)\n",
    "\n",
    "age_label = tk.Label(window, text='Age')\n",
    "age_entry = tk.Entry(window)\n",
    "\n",
    "add_button = tk.Button(window, text='Add Student')\n",
    "\n",
    "#Use the pack() method to add the widgets to the window:\n",
    "name_label.pack()\n",
    "name_entry.pack()\n",
    "\n",
    "age_label.pack()\n",
    "age_entry.pack()\n",
    "\n",
    "add_button.pack\n",
    "\n",
    "#Bind the button to a function that adds the student to the database:\n",
    "def add_student():\n",
    "    student_name = name_entry.get()\n",
    "    student_age = int(age_entry.get())\n",
    "    student_data = {'Name':student_name,'Age':student_age}\n",
    "    student_db.append(student_data)\n",
    "    save_db(student_db)\n",
    "    name_entry.delete(0, tk.END)\n",
    "    age_entry.delete(0, tk.END)\n",
    "\n",
    "add_button.config(command=add_student)\n",
    "\n",
    "#Start the main event loop:\n",
    "window.mainloop()\n"
   ]
  },
  {
   "cell_type": "code",
   "execution_count": null,
   "id": "6b3c7b7c",
   "metadata": {},
   "outputs": [],
   "source": []
  },
  {
   "cell_type": "code",
   "execution_count": null,
   "id": "58e5c28e",
   "metadata": {},
   "outputs": [],
   "source": []
  },
  {
   "cell_type": "code",
   "execution_count": null,
   "id": "a18e989f",
   "metadata": {},
   "outputs": [],
   "source": []
  },
  {
   "cell_type": "code",
   "execution_count": null,
   "id": "07b4c656",
   "metadata": {},
   "outputs": [],
   "source": []
  },
  {
   "cell_type": "code",
   "execution_count": null,
   "id": "5c5ee8e5",
   "metadata": {},
   "outputs": [],
   "source": []
  },
  {
   "cell_type": "code",
   "execution_count": null,
   "id": "1dcd049a",
   "metadata": {},
   "outputs": [],
   "source": []
  },
  {
   "cell_type": "code",
   "execution_count": null,
   "id": "acf19497",
   "metadata": {},
   "outputs": [],
   "source": []
  },
  {
   "cell_type": "code",
   "execution_count": null,
   "id": "22e98e6d",
   "metadata": {},
   "outputs": [],
   "source": []
  },
  {
   "cell_type": "code",
   "execution_count": null,
   "id": "d2b95f77",
   "metadata": {},
   "outputs": [],
   "source": []
  },
  {
   "cell_type": "code",
   "execution_count": null,
   "id": "a73344a4",
   "metadata": {},
   "outputs": [],
   "source": []
  },
  {
   "cell_type": "code",
   "execution_count": null,
   "id": "7c6bb209",
   "metadata": {},
   "outputs": [],
   "source": []
  },
  {
   "cell_type": "code",
   "execution_count": null,
   "id": "d214557e",
   "metadata": {},
   "outputs": [],
   "source": []
  },
  {
   "cell_type": "code",
   "execution_count": null,
   "id": "ca0dc517",
   "metadata": {},
   "outputs": [],
   "source": []
  },
  {
   "cell_type": "code",
   "execution_count": null,
   "id": "3cef87ef",
   "metadata": {},
   "outputs": [],
   "source": []
  },
  {
   "cell_type": "code",
   "execution_count": null,
   "id": "538aa82a",
   "metadata": {},
   "outputs": [],
   "source": []
  },
  {
   "cell_type": "code",
   "execution_count": null,
   "id": "52cd09fb",
   "metadata": {},
   "outputs": [],
   "source": []
  },
  {
   "cell_type": "code",
   "execution_count": null,
   "id": "30e31379",
   "metadata": {},
   "outputs": [],
   "source": []
  },
  {
   "cell_type": "code",
   "execution_count": null,
   "id": "b1640c27",
   "metadata": {},
   "outputs": [],
   "source": []
  },
  {
   "cell_type": "code",
   "execution_count": null,
   "id": "a71a6a0a",
   "metadata": {},
   "outputs": [],
   "source": []
  },
  {
   "cell_type": "code",
   "execution_count": null,
   "id": "61b20bdc",
   "metadata": {},
   "outputs": [],
   "source": []
  },
  {
   "cell_type": "code",
   "execution_count": null,
   "id": "ae774d50",
   "metadata": {},
   "outputs": [],
   "source": []
  },
  {
   "cell_type": "code",
   "execution_count": null,
   "id": "22a26b86",
   "metadata": {},
   "outputs": [],
   "source": []
  },
  {
   "cell_type": "code",
   "execution_count": null,
   "id": "be66c3f7",
   "metadata": {},
   "outputs": [],
   "source": []
  }
 ],
 "metadata": {
  "kernelspec": {
   "display_name": "Python 3 (ipykernel)",
   "language": "python",
   "name": "python3"
  },
  "language_info": {
   "codemirror_mode": {
    "name": "ipython",
    "version": 3
   },
   "file_extension": ".py",
   "mimetype": "text/x-python",
   "name": "python",
   "nbconvert_exporter": "python",
   "pygments_lexer": "ipython3",
   "version": "3.9.12"
  }
 },
 "nbformat": 4,
 "nbformat_minor": 5
}
